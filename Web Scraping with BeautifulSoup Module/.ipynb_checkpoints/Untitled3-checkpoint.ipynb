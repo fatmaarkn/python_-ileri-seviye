{
 "cells": [
  {
   "cell_type": "code",
   "execution_count": 1,
   "id": "30d998e0-bf48-49da-ad70-8395e9434461",
   "metadata": {},
   "outputs": [],
   "source": [
    "import requests \n",
    "from bs4 import BeautifulSoup \n",
    "import os \n",
    "import pandas as pd"
   ]
  },
  {
   "cell_type": "code",
   "execution_count": 3,
   "id": "7946838d-706f-4eaa-a8aa-20ed5056e438",
   "metadata": {},
   "outputs": [
    {
     "name": "stdout",
     "output_type": "stream",
     "text": [
      "Double Blind\n",
      "Metalocalypse: Army of the Doomstar\n",
      "Abigail\n",
      "The Blind\n",
      "The Ministry of Ungentlemanly Warfare\n",
      "Challengers\n",
      "Sayen: La cazadora\n",
      "Madame Web\n",
      "Unfrosted\n",
      "The Greatest Night in Pop\n",
      "Godzilla x Kong: The New Empire\n",
      "Zom 100: Bucket List of the Dead\n",
      "Shirley\n",
      "Wonka\n",
      "Und morgen die ganze Welt\n",
      "Vincent doit mourir\n",
      "Me contro Te: Il film - Missione giungla\n",
      "Orion and the Dark\n",
      "She Came to Me\n",
      "Praise This\n",
      "The Casagrandes Movie\n",
      "Kevade\n",
      "Wil\n",
      "Craig Before the Creek\n",
      "24 adet film bulundu\n"
     ]
    }
   ],
   "source": [
    "url = 'http://www.filmmodu16.com/'\n",
    "\n",
    "response = requests.get(url)\n",
    "\n",
    "if response.status_code == 200:\n",
    "    \n",
    "    soup = BeautifulSoup(response.content, 'html.parser')\n",
    "    \n",
    "    all_tags = []\n",
    "    for tag in soup.find_all(\"div\",attrs={\"class\":\"col-md-2 col-xs-6 movie\"}):\n",
    "        a_tag = tag.find(\"a\")\n",
    "        if a_tag:\n",
    "            all_tags.append(a_tag.text.strip())\n",
    "    for tag in all_tags:\n",
    "         print(tag)\n",
    "print(f\"{len(all_tags)} adet film bulundu\")"
   ]
  },
  {
   "cell_type": "code",
   "execution_count": 7,
   "id": "355c03ed-bbc3-4c39-9f81-b5c29c5dbff8",
   "metadata": {},
   "outputs": [
    {
     "name": "stdout",
     "output_type": "stream",
     "text": [
      "https://www.filmmodu16.com/double-blind-fhd-izle\n",
      "https://www.filmmodu16.com/metalocalypse-army-of-the-doomstar-fhd-izle\n",
      "https://www.filmmodu16.com/abigail-2024-fhd-izle\n",
      "https://www.filmmodu16.com/the-blind-fhd-izle\n",
      "https://www.filmmodu16.com/the-ministry-of-ungentlemanly-warfare-fhd-izle\n",
      "https://www.filmmodu16.com/challengers-fhd-izle\n",
      "https://www.filmmodu16.com/sayen-la-cazadora-fhd-izle\n",
      "https://www.filmmodu16.com/madame-web-fhd-izle\n",
      "https://www.filmmodu16.com/unfrosted-fhd-izle\n",
      "https://www.filmmodu16.com/the-greatest-night-in-pop-fhd-izle\n",
      "https://www.filmmodu16.com/godzilla-x-kong-the-new-empire-fhd-izle\n",
      "https://www.filmmodu16.com/zom-100-bucket-list-of-the-dead-fhd-izle\n",
      "https://www.filmmodu16.com/shirley-2024-fhd-izle\n",
      "https://www.filmmodu16.com/wonka-fhd-izle\n",
      "https://www.filmmodu16.com/und-morgen-die-ganze-welt-fhd-izle\n",
      "https://www.filmmodu16.com/vincent-doit-mourir-fhd-izle\n",
      "https://www.filmmodu16.com/me-contro-te-il-film-missione-giungla-fhd-izle\n",
      "https://www.filmmodu16.com/orion-and-the-dark-fhd-izle\n",
      "https://www.filmmodu16.com/she-came-to-me-fhd-izle\n",
      "https://www.filmmodu16.com/praise-this-fhd-izle\n",
      "https://www.filmmodu16.com/the-casagrandes-movie-fhd-izle\n",
      "https://www.filmmodu16.com/kevade-fhd-izle\n",
      "https://www.filmmodu16.com/wil-fhd-izle\n",
      "https://www.filmmodu16.com/craig-before-the-creek-fhd-izle\n",
      "24 adet film bulundu\n"
     ]
    }
   ],
   "source": [
    "url = 'https://www.filmmodu16.com/'\n",
    "\n",
    "response = requests.get(url)\n",
    "\n",
    "if response.status_code == 200:\n",
    "    \n",
    "    soup = BeautifulSoup(response.content, 'html.parser')\n",
    "    \n",
    "    all_tags = []\n",
    "    all_hrefs= []\n",
    "    for tag in soup.find_all(\"div\",attrs={\"class\":\"col-md-2 col-xs-6 movie\"}):\n",
    "        a_tag = tag.find(\"a\")\n",
    "        if a_tag:\n",
    "            all_hrefs.append(a_tag.get('href'))\n",
    "            all_tags.append(a_tag.text.strip())\n",
    "            \n",
    "    for href in all_hrefs:\n",
    "         print(href)\n",
    "print(f\"{len(all_hrefs)} adet film bulundu\")"
   ]
  },
  {
   "cell_type": "code",
   "execution_count": 16,
   "id": "0c3b267b-34a6-4739-8803-1d93a15ab2c3",
   "metadata": {},
   "outputs": [
    {
     "name": "stdout",
     "output_type": "stream",
     "text": [
      "Görüntüler başarıyla indirildi.\n",
      "Görüntüler başarıyla indirildi.\n",
      "Görüntüler başarıyla indirildi.\n",
      "Görüntüler başarıyla indirildi.\n",
      "Görüntüler başarıyla indirildi.\n",
      "Görüntüler başarıyla indirildi.\n",
      "Görüntüler başarıyla indirildi.\n",
      "Görüntüler başarıyla indirildi.\n",
      "Görüntüler başarıyla indirildi.\n",
      "Görüntüler başarıyla indirildi.\n",
      "Görüntüler başarıyla indirildi.\n",
      "Görüntüler başarıyla indirildi.\n",
      "Görüntüler başarıyla indirildi.\n",
      "Görüntüler başarıyla indirildi.\n",
      "Görüntüler başarıyla indirildi.\n",
      "Görüntüler başarıyla indirildi.\n",
      "Görüntüler başarıyla indirildi.\n",
      "Görüntüler başarıyla indirildi.\n",
      "Görüntüler başarıyla indirildi.\n",
      "Görüntüler başarıyla indirildi.\n",
      "Görüntüler başarıyla indirildi.\n",
      "Görüntüler başarıyla indirildi.\n",
      "Görüntüler başarıyla indirildi.\n",
      "Görüntüler başarıyla indirildi.\n"
     ]
    }
   ],
   "source": [
    "if not os.path.exists('indirilen_goruntuler'):\n",
    "  os.makedirs('indirilen_goruntuler')\n",
    "\n",
    "url='https://www.filmmodu16.com/'\n",
    "\n",
    "reponse =requests.get(url)\n",
    "soup=BeautifulSoup(response.text,'html.parser')\n",
    "\n",
    "my_tags=soup.find_all(\"div\",attrs={\"class\": \"col-md-2 col-xs-6 movie\"})\n",
    "all_content=[]\n",
    "for tag in my_tags:\n",
    "\n",
    "    img_src=tag.find('img')['src']\n",
    "\n",
    "    img_url='https://www.filmmodu16.com/' +img_src\n",
    "\n",
    "    img_response=requests.get(img_url)\n",
    "    all_content.append(img_response.content)\n",
    "    with open ('indirilen_goruntuler/' +os.path.basename(img_src),'wb') as f:\n",
    "            f.write(img_response.content)\n",
    "    print (\"Görüntüler başarıyla indirildi.\")\n"
   ]
  },
  {
   "cell_type": "code",
   "execution_count": 19,
   "id": "85812939-9bc4-47e9-8e80-0fadcfa0b9af",
   "metadata": {},
   "outputs": [],
   "source": [
    "my_dict={\"Film Adı\":all_tags,\"Bağlantı Linki\":all_hrefs,\"Poater\":all_content}\n",
    "my_df=pd.DataFrame.from_dict(my_dict)\n",
    "my_df\n",
    "pd.DataFrame.to_excel(my_df,\"Film Bilgileri.xlsx\")"
   ]
  },
  {
   "cell_type": "code",
   "execution_count": null,
   "id": "fabf0860-2199-4938-bf08-83a80e2799f7",
   "metadata": {},
   "outputs": [],
   "source": []
  }
 ],
 "metadata": {
  "kernelspec": {
   "display_name": "env_ybs",
   "language": "python",
   "name": "env_ybs"
  },
  "language_info": {
   "codemirror_mode": {
    "name": "ipython",
    "version": 3
   },
   "file_extension": ".py",
   "mimetype": "text/x-python",
   "name": "python",
   "nbconvert_exporter": "python",
   "pygments_lexer": "ipython3",
   "version": "3.10.10"
  }
 },
 "nbformat": 4,
 "nbformat_minor": 5
}
